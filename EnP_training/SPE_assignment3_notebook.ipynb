{
  "nbformat": 4,
  "nbformat_minor": 0,
  "metadata": {
    "colab": {
      "name": "SPE_assignment3_notebook",
      "provenance": [],
      "collapsed_sections": [],
      "include_colab_link": true
    },
    "kernelspec": {
      "name": "python3",
      "display_name": "Python 3"
    }
  },
  "cells": [
    {
      "cell_type": "markdown",
      "metadata": {
        "id": "view-in-github",
        "colab_type": "text"
      },
      "source": [
        "<a href=\"https://colab.research.google.com/github/yohanesnuwara/python-bootcamp-for-geoengineers/blob/master/EnP_training/SPE_assignment3_notebook.ipynb\" target=\"_parent\"><img src=\"https://colab.research.google.com/assets/colab-badge.svg\" alt=\"Open In Colab\"/></a>"
      ]
    },
    {
      "cell_type": "markdown",
      "metadata": {
        "id": "mYF9TAAYHktD"
      },
      "source": [
        "# Assignment 3\n",
        "\n",
        "This assignment is about the application of Python for well-test analysis. You're given a CSV data (have been loaded here), and your task is to **simulate the well transient response** (not to analyze it).\n",
        "\n",
        "### Given reservoir properties\n",
        "\n",
        "* Reservoir initial pressure 3,000 psia\n",
        "* Porosity 15%\n",
        "* Total compressibility 12 microsip\n",
        "* Permeability 1,000 md\n",
        "* Radius of wellbore 4 inch (1 inch = 0.0833 ft)\n",
        "* Reservoir thickness 10 ft\n",
        "* Oil viscosity 2 cp\n",
        "* Distance from wellbore to reservoir outer boundary 8,000 ft \n",
        "* Oil FVF 1.33 RB/STB\n",
        "\n",
        "### Read instruction carefully 😊\n",
        "\n",
        "* To help you coding, refer to the section about \"Modeling a Multirate Test\" and \"Modeling a Multiple Pressure Test\" in our [session 5 notebook](https://bit.ly/python-welltest).\n",
        "\n",
        "* There are 3 columns in the data, \"Time\" (in hours), \"Rate\" (in $m^3$/hour), and \"Pressure\" (in bar). \n",
        "\n",
        "* Don't forget to convert the \"Rate\" to barrel/day and convert \"Pressure\" to psia. \n",
        "\n",
        "* Do a modeling of multirate test using the \"Time\" and \"Rate\" data\n",
        "* Do a modeling of multiple pressure test using the \"Time\" and \"Pressure\" data"
      ]
    },
    {
      "cell_type": "code",
      "metadata": {
        "id": "I9zHGyR8HgiM"
      },
      "source": [
        "import numpy as np\n",
        "import matplotlib.pyplot as plt\n",
        "import pandas as pd"
      ],
      "execution_count": null,
      "outputs": []
    },
    {
      "cell_type": "code",
      "metadata": {
        "colab": {
          "base_uri": "https://localhost:8080/"
        },
        "id": "FRAYMu5iJx4t",
        "outputId": "d7b2cf5d-0e61-4fb8-8615-96e4044567e3"
      },
      "source": [
        "# cloning to github repository \n",
        "!git clone https://github.com/yohanesnuwara/pyreservoir"
      ],
      "execution_count": null,
      "outputs": [
        {
          "output_type": "stream",
          "text": [
            "Cloning into 'pyreservoir'...\n",
            "remote: Enumerating objects: 161, done.\u001b[K\n",
            "remote: Counting objects: 100% (161/161), done.\u001b[K\n",
            "remote: Compressing objects: 100% (161/161), done.\u001b[K\n",
            "remote: Total 819 (delta 85), reused 0 (delta 0), pack-reused 658\u001b[K\n",
            "Receiving objects: 100% (819/819), 24.03 MiB | 14.12 MiB/s, done.\n",
            "Resolving deltas: 100% (439/439), done.\n"
          ],
          "name": "stdout"
        }
      ]
    },
    {
      "cell_type": "code",
      "metadata": {
        "id": "AZZRzpXYLCHx"
      },
      "source": [
        "# import system\n",
        "import sys\n",
        "sys.path.append('/content/pyreservoir/welltest')\n",
        "\n",
        "# functions you will use\n",
        "from wellflo import * # import all functions\n",
        "from wellanalysis import constant_rate_drawdown_test, constant_rate_buildup_test"
      ],
      "execution_count": null,
      "outputs": []
    },
    {
      "cell_type": "code",
      "metadata": {
        "id": "QaEcq2baJ5Nx"
      },
      "source": [
        "# filepath of the data\n",
        "filepath = '/content/pyreservoir/data/welltest/Data_Well_Transient_Modeling.csv'"
      ],
      "execution_count": null,
      "outputs": []
    },
    {
      "cell_type": "code",
      "metadata": {
        "id": "ieZBun_60N2g",
        "colab": {
          "base_uri": "https://localhost:8080/",
          "height": 402
        },
        "outputId": "febe1c0d-0478-4e50-8249-30d42c7d0d2c"
      },
      "source": [
        "Data = pd.read_csv(filepath)\n",
        "Data[\"pressure (bar)\"] = Data[\"pressure (bar)\"].apply(lambda x: x*14.504)\n",
        "Data[\"rate (m3/hr)\"] = Data[\"rate (m3/hr)\"].apply(lambda x: x*150.955)\n",
        "Data = Data.rename(columns={'rate (m3/hr)':'rate(bbl/day)','pressure (bar)':'pressure(psia)'})\n",
        "Data"
      ],
      "execution_count": null,
      "outputs": [
        {
          "output_type": "execute_result",
          "data": {
            "text/html": [
              "<div>\n",
              "<style scoped>\n",
              "    .dataframe tbody tr th:only-of-type {\n",
              "        vertical-align: middle;\n",
              "    }\n",
              "\n",
              "    .dataframe tbody tr th {\n",
              "        vertical-align: top;\n",
              "    }\n",
              "\n",
              "    .dataframe thead th {\n",
              "        text-align: right;\n",
              "    }\n",
              "</style>\n",
              "<table border=\"1\" class=\"dataframe\">\n",
              "  <thead>\n",
              "    <tr style=\"text-align: right;\">\n",
              "      <th></th>\n",
              "      <th>time (hr)</th>\n",
              "      <th>rate(bbl/day)</th>\n",
              "      <th>pressure(psia)</th>\n",
              "    </tr>\n",
              "  </thead>\n",
              "  <tbody>\n",
              "    <tr>\n",
              "      <th>0</th>\n",
              "      <td>0</td>\n",
              "      <td>483.056</td>\n",
              "      <td>2000.000072</td>\n",
              "    </tr>\n",
              "    <tr>\n",
              "      <th>1</th>\n",
              "      <td>10</td>\n",
              "      <td>483.056</td>\n",
              "      <td>2000.000072</td>\n",
              "    </tr>\n",
              "    <tr>\n",
              "      <th>2</th>\n",
              "      <td>20</td>\n",
              "      <td>483.056</td>\n",
              "      <td>2000.000072</td>\n",
              "    </tr>\n",
              "    <tr>\n",
              "      <th>3</th>\n",
              "      <td>30</td>\n",
              "      <td>483.056</td>\n",
              "      <td>2000.000072</td>\n",
              "    </tr>\n",
              "    <tr>\n",
              "      <th>4</th>\n",
              "      <td>40</td>\n",
              "      <td>483.056</td>\n",
              "      <td>2000.000072</td>\n",
              "    </tr>\n",
              "    <tr>\n",
              "      <th>...</th>\n",
              "      <td>...</td>\n",
              "      <td>...</td>\n",
              "      <td>...</td>\n",
              "    </tr>\n",
              "    <tr>\n",
              "      <th>94</th>\n",
              "      <td>940</td>\n",
              "      <td>150.955</td>\n",
              "      <td>2025.004968</td>\n",
              "    </tr>\n",
              "    <tr>\n",
              "      <th>95</th>\n",
              "      <td>950</td>\n",
              "      <td>150.955</td>\n",
              "      <td>2025.004968</td>\n",
              "    </tr>\n",
              "    <tr>\n",
              "      <th>96</th>\n",
              "      <td>960</td>\n",
              "      <td>150.955</td>\n",
              "      <td>2025.004968</td>\n",
              "    </tr>\n",
              "    <tr>\n",
              "      <th>97</th>\n",
              "      <td>970</td>\n",
              "      <td>150.955</td>\n",
              "      <td>2025.004968</td>\n",
              "    </tr>\n",
              "    <tr>\n",
              "      <th>98</th>\n",
              "      <td>980</td>\n",
              "      <td>150.955</td>\n",
              "      <td>2025.004968</td>\n",
              "    </tr>\n",
              "  </tbody>\n",
              "</table>\n",
              "<p>99 rows × 3 columns</p>\n",
              "</div>"
            ],
            "text/plain": [
              "    time (hr)  rate(bbl/day)  pressure(psia)\n",
              "0           0        483.056     2000.000072\n",
              "1          10        483.056     2000.000072\n",
              "2          20        483.056     2000.000072\n",
              "3          30        483.056     2000.000072\n",
              "4          40        483.056     2000.000072\n",
              "..        ...            ...             ...\n",
              "94        940        150.955     2025.004968\n",
              "95        950        150.955     2025.004968\n",
              "96        960        150.955     2025.004968\n",
              "97        970        150.955     2025.004968\n",
              "98        980        150.955     2025.004968\n",
              "\n",
              "[99 rows x 3 columns]"
            ]
          },
          "metadata": {
            "tags": []
          },
          "execution_count": 5
        }
      ]
    },
    {
      "cell_type": "markdown",
      "metadata": {
        "id": "rbmwC1vxQqrz"
      },
      "source": [
        "## Input reservoir properties"
      ]
    },
    {
      "cell_type": "code",
      "metadata": {
        "id": "c-38ojccQtJo"
      },
      "source": [
        "# Input reservoir properties\n",
        "poro = 0.15 \n",
        "ct = 12E-6 \n",
        "perm = 1000\n",
        "rw = 4 * 0.08333 \n",
        "h = 10\n",
        "mu = 2 \n",
        "re = 8000\n",
        "Bo = 1.33\n",
        "\n",
        "p_initial = 3000\n",
        "\n"
      ],
      "execution_count": null,
      "outputs": []
    },
    {
      "cell_type": "markdown",
      "metadata": {
        "id": "Fw5gUhIAQUp1"
      },
      "source": [
        "## Modeling the Multirate Test (use timestep 0.1 hour)"
      ]
    },
    {
      "cell_type": "code",
      "metadata": {
        "id": "4zdGaBf090_3",
        "colab": {
          "base_uri": "https://localhost:8080/",
          "height": 343
        },
        "outputId": "11c17cc2-baea-449c-c1ea-80576dd4a5c8"
      },
      "source": [
        "Data.head(10)"
      ],
      "execution_count": null,
      "outputs": [
        {
          "output_type": "execute_result",
          "data": {
            "text/html": [
              "<div>\n",
              "<style scoped>\n",
              "    .dataframe tbody tr th:only-of-type {\n",
              "        vertical-align: middle;\n",
              "    }\n",
              "\n",
              "    .dataframe tbody tr th {\n",
              "        vertical-align: top;\n",
              "    }\n",
              "\n",
              "    .dataframe thead th {\n",
              "        text-align: right;\n",
              "    }\n",
              "</style>\n",
              "<table border=\"1\" class=\"dataframe\">\n",
              "  <thead>\n",
              "    <tr style=\"text-align: right;\">\n",
              "      <th></th>\n",
              "      <th>time (hr)</th>\n",
              "      <th>rate(bbl/day)</th>\n",
              "      <th>pressure(psia)</th>\n",
              "    </tr>\n",
              "  </thead>\n",
              "  <tbody>\n",
              "    <tr>\n",
              "      <th>0</th>\n",
              "      <td>0</td>\n",
              "      <td>483.056</td>\n",
              "      <td>2000.000072</td>\n",
              "    </tr>\n",
              "    <tr>\n",
              "      <th>1</th>\n",
              "      <td>10</td>\n",
              "      <td>483.056</td>\n",
              "      <td>2000.000072</td>\n",
              "    </tr>\n",
              "    <tr>\n",
              "      <th>2</th>\n",
              "      <td>20</td>\n",
              "      <td>483.056</td>\n",
              "      <td>2000.000072</td>\n",
              "    </tr>\n",
              "    <tr>\n",
              "      <th>3</th>\n",
              "      <td>30</td>\n",
              "      <td>483.056</td>\n",
              "      <td>2000.000072</td>\n",
              "    </tr>\n",
              "    <tr>\n",
              "      <th>4</th>\n",
              "      <td>40</td>\n",
              "      <td>483.056</td>\n",
              "      <td>2000.000072</td>\n",
              "    </tr>\n",
              "    <tr>\n",
              "      <th>5</th>\n",
              "      <td>50</td>\n",
              "      <td>483.056</td>\n",
              "      <td>2000.000072</td>\n",
              "    </tr>\n",
              "    <tr>\n",
              "      <th>6</th>\n",
              "      <td>60</td>\n",
              "      <td>483.056</td>\n",
              "      <td>2000.000072</td>\n",
              "    </tr>\n",
              "    <tr>\n",
              "      <th>7</th>\n",
              "      <td>70</td>\n",
              "      <td>603.820</td>\n",
              "      <td>2000.000072</td>\n",
              "    </tr>\n",
              "    <tr>\n",
              "      <th>8</th>\n",
              "      <td>80</td>\n",
              "      <td>603.820</td>\n",
              "      <td>2000.000072</td>\n",
              "    </tr>\n",
              "    <tr>\n",
              "      <th>9</th>\n",
              "      <td>90</td>\n",
              "      <td>603.820</td>\n",
              "      <td>2000.000072</td>\n",
              "    </tr>\n",
              "  </tbody>\n",
              "</table>\n",
              "</div>"
            ],
            "text/plain": [
              "   time (hr)  rate(bbl/day)  pressure(psia)\n",
              "0          0        483.056     2000.000072\n",
              "1         10        483.056     2000.000072\n",
              "2         20        483.056     2000.000072\n",
              "3         30        483.056     2000.000072\n",
              "4         40        483.056     2000.000072\n",
              "5         50        483.056     2000.000072\n",
              "6         60        483.056     2000.000072\n",
              "7         70        603.820     2000.000072\n",
              "8         80        603.820     2000.000072\n",
              "9         90        603.820     2000.000072"
            ]
          },
          "metadata": {
            "tags": []
          },
          "execution_count": 7
        }
      ]
    },
    {
      "cell_type": "code",
      "metadata": {
        "id": "I25OTQlXQXbG",
        "colab": {
          "base_uri": "https://localhost:8080/",
          "height": 265
        },
        "outputId": "6fedf8d3-8114-4054-de84-63718e11e7f1"
      },
      "source": [
        "# Define t and q from data\n",
        "t_change = Data['time (hr)'].values\n",
        "q_change = Data['rate(bbl/day)'].values\n",
        "\n",
        "\n",
        "plt.step(t_change,q_change)\n",
        "plt.show()"
      ],
      "execution_count": null,
      "outputs": [
        {
          "output_type": "display_data",
          "data": {
            "image/png": "[encoded data removed]",
            "text/plain": [
              "<Figure size 432x288 with 1 Axes>"
            ]
          },
          "metadata": {
            "tags": [],
            "needs_background": "light"
          }
        }
      ]
    },
    {
      "cell_type": "code",
      "metadata": {
        "id": "2xeyjC9j-1kY",
        "colab": {
          "base_uri": "https://localhost:8080/"
        },
        "outputId": "a6f1a00f-38a5-4a6f-a74c-1b5994f1af4f"
      },
      "source": [
        "time_finite = time_finite_acting(perm,poro,mu,ct,rw,re)\n",
        "time_finite = np.round(time_finite,3)\n",
        "print('Finite acting time is {} hrs'.format(time_finite))"
      ],
      "execution_count": null,
      "outputs": [
        {
          "output_type": "stream",
          "text": [
            "Finite acting time is 218.43 hrs\n"
          ],
          "name": "stdout"
        }
      ]
    },
    {
      "cell_type": "code",
      "metadata": {
        "id": "l288_DNd-1MY",
        "colab": {
          "base_uri": "https://localhost:8080/",
          "height": 364
        },
        "outputId": "e91093d7-c7ba-48bf-99a6-5212ea59ea3a"
      },
      "source": [
        "\n",
        "\n",
        "t_step = 0.1\n",
        "\n",
        "simulate_multirate_test(p_initial, t_step, t_change, q_change, re, rw, perm, poro, mu, ct, Bo, h)                        \n"
      ],
      "execution_count": null,
      "outputs": [
        {
          "output_type": "display_data",
          "data": {
            "image/png": "[encoded data removed]",
            "text/plain": [
              "<Figure size 1224x360 with 2 Axes>"
            ]
          },
          "metadata": {
            "tags": [],
            "needs_background": "light"
          }
        }
      ]
    },
    {
      "cell_type": "markdown",
      "metadata": {
        "id": "iF8bPd8BQXr8"
      },
      "source": [
        "## Modeling the Multiple Pressure Test (use timestep 0.1 hour)"
      ]
    },
    {
      "cell_type": "code",
      "metadata": {
        "id": "1Yy6QH-OQZ_g"
      },
      "source": [
        "# Define t and p from data\n",
        "poro = 0.15 \n",
        "ct = 12E-6 \n",
        "perm = 1000\n",
        "rw = 4 * 0.08333 \n",
        "h = 10\n",
        "mu = 2 \n",
        "re = 8000\n",
        "Bo = 1.33\n",
        "\n",
        "p_initial = 3000\n",
        "\n",
        "\n",
        "\n"
      ],
      "execution_count": null,
      "outputs": []
    },
    {
      "cell_type": "code",
      "metadata": {
        "id": "90b1_X0xPe2v",
        "colab": {
          "base_uri": "https://localhost:8080/",
          "height": 265
        },
        "outputId": "c875f4f3-05cd-4229-d4d4-321c8f8ed548"
      },
      "source": [
        "t_change = Data['time (hr)'].values\n",
        "p_change = Data['pressure(psia)'].values\n",
        "\n",
        "\n",
        "plt.step(t_change,p_change)\n",
        "plt.show()"
      ],
      "execution_count": null,
      "outputs": [
        {
          "output_type": "display_data",
          "data": {
            "image/png": "[encoded data removed]",
            "text/plain": [
              "<Figure size 432x288 with 1 Axes>"
            ]
          },
          "metadata": {
            "tags": [],
            "needs_background": "light"
          }
        }
      ]
    },
    {
      "cell_type": "code",
      "metadata": {
        "id": "HrqgU070PepQ",
        "colab": {
          "base_uri": "https://localhost:8080/"
        },
        "outputId": "e2489a45-1054-4720-9ed0-0c397e7dac84"
      },
      "source": [
        "time_finite_multipsi = time_finite_acting(perm,poro,mu,ct,rw,re)\n",
        "time_finite_multipsi = np.round(time_finite_multipsi,3)\n",
        "print('Finite acting time is {} hrs'.format(time_finite_multipsi))"
      ],
      "execution_count": null,
      "outputs": [
        {
          "output_type": "stream",
          "text": [
            "Finite acting time is 218.43 hrs\n"
          ],
          "name": "stdout"
        }
      ]
    },
    {
      "cell_type": "code",
      "metadata": {
        "id": "JDYQccSIRAxV",
        "colab": {
          "base_uri": "https://localhost:8080/",
          "height": 364
        },
        "outputId": "c9386ab5-dc14-497b-8f5d-0c03f12f039b"
      },
      "source": [
        "t_step = 0.1\n",
        "\n",
        "simulate_multipressure_test(p_initial, t_step, t_change, p_change, \n",
        "                            re, rw, perm, poro, mu, ct, Bo, h)"
      ],
      "execution_count": null,
      "outputs": [
        {
          "output_type": "display_data",
          "data": {
            "image/png": "[encoded data removed]",
            "text/plain": [
              "<Figure size 1224x360 with 2 Axes>"
            ]
          },
          "metadata": {
            "tags": [],
            "needs_background": "light"
          }
        }
      ]
    },
    {
      "cell_type": "code",
      "metadata": {
        "id": "-cIasmFzRAhD"
      },
      "source": [
        ""
      ],
      "execution_count": null,
      "outputs": []
    },
    {
      "cell_type": "code",
      "metadata": {
        "id": "YBYg-vH5Q_58"
      },
      "source": [
        ""
      ],
      "execution_count": null,
      "outputs": []
    }
  ]
}