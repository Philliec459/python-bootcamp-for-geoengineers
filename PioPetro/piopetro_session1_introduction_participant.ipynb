{
  "nbformat": 4,
  "nbformat_minor": 0,
  "metadata": {
    "colab": {
      "name": "piopetro-session1-introduction-participant.ipynb",
      "provenance": [],
      "authorship_tag": "ABX9TyNXF6zi8jPYxiLiSUXs4qFH",
      "include_colab_link": true
    },
    "kernelspec": {
      "name": "python3",
      "display_name": "Python 3"
    }
  },
  "cells": [
    {
      "cell_type": "markdown",
      "metadata": {
        "id": "view-in-github",
        "colab_type": "text"
      },
      "source": [
        "<a href=\"https://colab.research.google.com/github/yohanesnuwara/python-bootcamp-for-geoengineers/blob/master/PioPetro/piopetro_session1_introduction_participant.ipynb\" target=\"_parent\"><img src=\"https://colab.research.google.com/assets/colab-badge.svg\" alt=\"Open In Colab\"/></a>"
      ]
    },
    {
      "cell_type": "code",
      "metadata": {
        "id": "sZ6v4aQD9Pvx"
      },
      "source": [
        "import numpy as np\r\n",
        "import matplotlib.pyplot as plt # plotting\r\n",
        "import pandas as pd\r\n",
        "import scipy"
      ],
      "execution_count": null,
      "outputs": []
    },
    {
      "cell_type": "code",
      "metadata": {
        "colab": {
          "base_uri": "https://localhost:8080/"
        },
        "id": "on1Nrd_T9z2n",
        "outputId": "1de67e0a-c62b-4582-da1d-e73198b41751"
      },
      "source": [
        "# Making a list using numpy array method\r\n",
        "x = np.array([1, 2, 3, 4, 5, 6])\r\n",
        "print(x)"
      ],
      "execution_count": null,
      "outputs": [
        {
          "output_type": "stream",
          "text": [
            "[1 2 3 4 5 6]\n"
          ],
          "name": "stdout"
        }
      ]
    },
    {
      "cell_type": "code",
      "metadata": {
        "colab": {
          "base_uri": "https://localhost:8080/"
        },
        "id": "XvgSnaot-HJp",
        "outputId": "136554cf-d0c9-46c5-a42f-51b5031713f6"
      },
      "source": [
        "# Making a list using LIST\r\n",
        "x = [1, 2, 3, 4, 5]\r\n",
        "print(x)"
      ],
      "execution_count": null,
      "outputs": [
        {
          "output_type": "stream",
          "text": [
            "[1, 2, 3, 4, 5]\n"
          ],
          "name": "stdout"
        }
      ]
    },
    {
      "cell_type": "code",
      "metadata": {
        "colab": {
          "base_uri": "https://localhost:8080/"
        },
        "id": "1P0nh6Db-emC",
        "outputId": "5df894c9-5454-4bad-9dc8-7080b4c5fafb"
      },
      "source": [
        "# produce an array from 1 to 100 divided into 50 numbers\r\n",
        "y = np.linspace(1, 100, 50)\r\n",
        "\r\n",
        "# produce an array from 1 to 100, the increment 2\r\n",
        "y = np.arange(1, 100, 2)\r\n",
        "print(y)"
      ],
      "execution_count": null,
      "outputs": [
        {
          "output_type": "stream",
          "text": [
            "[ 1  3  5  7  9 11 13 15 17 19 21 23 25 27 29 31 33 35 37 39 41 43 45 47\n",
            " 49 51 53 55 57 59 61 63 65 67 69 71 73 75 77 79 81 83 85 87 89 91 93 95\n",
            " 97 99]\n"
          ],
          "name": "stdout"
        }
      ]
    },
    {
      "cell_type": "code",
      "metadata": {
        "id": "bQVMNzsE-7Dp"
      },
      "source": [
        "def sine(x):\r\n",
        "  y = np.sin(x)\r\n",
        "  return y\r\n",
        "\r\n",
        "def cosine(x):\r\n",
        "  y = np.cos(x)\r\n",
        "  return y\r\n",
        "\r\n",
        "c = np.linspace(0, 360, 100) # degree\r\n",
        "c = np.deg2rad(c)\r\n",
        "\r\n",
        "y = sine(c)\r\n",
        "y1 = cosine(c)"
      ],
      "execution_count": null,
      "outputs": []
    },
    {
      "cell_type": "code",
      "metadata": {
        "colab": {
          "base_uri": "https://localhost:8080/",
          "height": 423
        },
        "id": "jLbFYLz6_jBd",
        "outputId": "508fad21-f3d5-4990-d4d1-eecd291ded8a"
      },
      "source": [
        "plt.style.use(\"classic\")\r\n",
        "\r\n",
        "plt.figure(figsize=(7,5))\r\n",
        "\r\n",
        "plt.plot(c, y, color=\"purple\", label=\"y=sin(x)\")\r\n",
        "# plt.plot(c, y1, color=\"green\", label=\"y=cos(x)\")\r\n",
        "plt.xlabel(\"x [degree]\", size=10)\r\n",
        "plt.ylabel(\"y\", size=10)\r\n",
        "plt.title(\"Sine Function\", size=18, pad=20)\r\n",
        "plt.xlim(0,6)\r\n",
        "\r\n",
        "plt.legend()\r\n",
        "plt.grid()\r\n",
        "plt.show()"
      ],
      "execution_count": null,
      "outputs": [
        {
          "output_type": "display_data",
          "data": {
            "image/png": "[encoded data removed]",
            "text/plain": [
              "<Figure size 560x400 with 1 Axes>"
            ]
          },
          "metadata": {
            "tags": []
          }
        }
      ]
    },
    {
      "cell_type": "code",
      "metadata": {
        "colab": {
          "base_uri": "https://localhost:8080/",
          "height": 390
        },
        "id": "EkeE6j4PBXaK",
        "outputId": "6e584052-76e7-43d8-c1ab-639940a1bdca"
      },
      "source": [
        "plt.style.use(\"classic\")\r\n",
        "\r\n",
        "plt.figure(figsize=(7,5))\r\n",
        "\r\n",
        "plt.subplot(1,2,1)\r\n",
        "plt.plot(c, y, color=\"purple\", label=\"y=sin(x)\")\r\n",
        "# plt.plot(c, y1, color=\"green\", label=\"y=cos(x)\")\r\n",
        "plt.xlabel(\"x [degree]\", size=10)\r\n",
        "plt.ylabel(\"y\", size=10)\r\n",
        "plt.title(\"Sine Function\", size=18, pad=20)\r\n",
        "plt.xlim(0,6)\r\n",
        "plt.grid()\r\n",
        "plt.legend()\r\n",
        "\r\n",
        "plt.subplot(1,2,2)\r\n",
        "plt.plot(c, y1, color=\"green\", label=\"cos(x)\")\r\n",
        "plt.title(\"Cosine Function\", size=18, pad=20)\r\n",
        "plt.legend()\r\n",
        "\r\n",
        "plt.tight_layout(1.6)\r\n",
        "plt.grid()\r\n",
        "plt.show()"
      ],
      "execution_count": null,
      "outputs": [
        {
          "output_type": "display_data",
          "data": {
            "image/png": "[encoded data removed]",
            "text/plain": [
              "<Figure size 560x400 with 2 Axes>"
            ]
          },
          "metadata": {
            "tags": []
          }
        }
      ]
    },
    {
      "cell_type": "code",
      "metadata": {
        "colab": {
          "base_uri": "https://localhost:8080/"
        },
        "id": "uWlSVHsOCIUl",
        "outputId": "ef09a88e-d666-45ab-db0f-d4d9af8e6a07"
      },
      "source": [
        "# generate an array consisting random numbers from 0 to 1, 50 numbers\r\n",
        "noise = np.random.random(100)\r\n",
        "\r\n",
        "print(noise)"
      ],
      "execution_count": null,
      "outputs": [
        {
          "output_type": "stream",
          "text": [
            "[0.00388175 0.6337363  0.74297108 0.57642325 0.53652743 0.53005074\n",
            " 0.77971157 0.36034314 0.13098436 0.61136187 0.8021041  0.03542865\n",
            " 0.50114152 0.55765362 0.2278868  0.21930513 0.78217925 0.7251346\n",
            " 0.24591637 0.92464065 0.4817952  0.96587002 0.15934233 0.90749606\n",
            " 0.64455348 0.28903922 0.239019   0.15768869 0.03363798 0.41177474\n",
            " 0.38156535 0.63055013 0.18298955 0.8703928  0.72908173 0.14670695\n",
            " 0.1703229  0.04563562 0.66283558 0.18864358 0.49438137 0.78482035\n",
            " 0.15662146 0.3503087  0.67981549 0.50677176 0.19883566 0.72216175\n",
            " 0.84290212 0.78226133 0.60157195 0.42816842 0.95213682 0.57691252\n",
            " 0.98655042 0.68312571 0.67095985 0.98739004 0.13091967 0.18633272\n",
            " 0.80412161 0.53277157 0.734845   0.44723313 0.5464199  0.21403991\n",
            " 0.80687368 0.81668074 0.07240444 0.14151155 0.80285143 0.07550133\n",
            " 0.79205886 0.02903956 0.40402434 0.81723216 0.99840585 0.35000831\n",
            " 0.1643609  0.12948069 0.52205683 0.31042893 0.89922626 0.11699367\n",
            " 0.83773847 0.39435236 0.60142315 0.1363308  0.15908434 0.49180779\n",
            " 0.73585847 0.85949065 0.54944344 0.14253548 0.21895331 0.26144345\n",
            " 0.48099999 0.82727996 0.77238599 0.07718859]\n"
          ],
          "name": "stdout"
        }
      ]
    },
    {
      "cell_type": "code",
      "metadata": {
        "colab": {
          "base_uri": "https://localhost:8080/"
        },
        "id": "WNnn8pDDCYCE",
        "outputId": "b8effcd4-df87-40ca-9c45-c8aa02bc9cee"
      },
      "source": [
        "print(y)"
      ],
      "execution_count": null,
      "outputs": [
        {
          "output_type": "stream",
          "text": [
            "[ 0.00000000e+00  6.34239197e-02  1.26592454e-01  1.89251244e-01\n",
            "  2.51147987e-01  3.12033446e-01  3.71662456e-01  4.29794912e-01\n",
            "  4.86196736e-01  5.40640817e-01  5.92907929e-01  6.42787610e-01\n",
            "  6.90079011e-01  7.34591709e-01  7.76146464e-01  8.14575952e-01\n",
            "  8.49725430e-01  8.81453363e-01  9.09631995e-01  9.34147860e-01\n",
            "  9.54902241e-01  9.71811568e-01  9.84807753e-01  9.93838464e-01\n",
            "  9.98867339e-01  9.99874128e-01  9.96854776e-01  9.89821442e-01\n",
            "  9.78802446e-01  9.63842159e-01  9.45000819e-01  9.22354294e-01\n",
            "  8.95993774e-01  8.66025404e-01  8.32569855e-01  7.95761841e-01\n",
            "  7.55749574e-01  7.12694171e-01  6.66769001e-01  6.18158986e-01\n",
            "  5.67059864e-01  5.13677392e-01  4.58226522e-01  4.00930535e-01\n",
            "  3.42020143e-01  2.81732557e-01  2.20310533e-01  1.58001396e-01\n",
            "  9.50560433e-02  3.17279335e-02 -3.17279335e-02 -9.50560433e-02\n",
            " -1.58001396e-01 -2.20310533e-01 -2.81732557e-01 -3.42020143e-01\n",
            " -4.00930535e-01 -4.58226522e-01 -5.13677392e-01 -5.67059864e-01\n",
            " -6.18158986e-01 -6.66769001e-01 -7.12694171e-01 -7.55749574e-01\n",
            " -7.95761841e-01 -8.32569855e-01 -8.66025404e-01 -8.95993774e-01\n",
            " -9.22354294e-01 -9.45000819e-01 -9.63842159e-01 -9.78802446e-01\n",
            " -9.89821442e-01 -9.96854776e-01 -9.99874128e-01 -9.98867339e-01\n",
            " -9.93838464e-01 -9.84807753e-01 -9.71811568e-01 -9.54902241e-01\n",
            " -9.34147860e-01 -9.09631995e-01 -8.81453363e-01 -8.49725430e-01\n",
            " -8.14575952e-01 -7.76146464e-01 -7.34591709e-01 -6.90079011e-01\n",
            " -6.42787610e-01 -5.92907929e-01 -5.40640817e-01 -4.86196736e-01\n",
            " -4.29794912e-01 -3.71662456e-01 -3.12033446e-01 -2.51147987e-01\n",
            " -1.89251244e-01 -1.26592454e-01 -6.34239197e-02 -2.44929360e-16]\n"
          ],
          "name": "stdout"
        }
      ]
    },
    {
      "cell_type": "code",
      "metadata": {
        "colab": {
          "base_uri": "https://localhost:8080/",
          "height": 457
        },
        "id": "qz9R9PhYCnyj",
        "outputId": "845c496c-4ded-4ddb-92d1-971d383852bd"
      },
      "source": [
        "plt.plot(c, y)\r\n",
        "plt.plot(c, y+noise)"
      ],
      "execution_count": null,
      "outputs": [
        {
          "output_type": "execute_result",
          "data": {
            "text/plain": [
              "[<matplotlib.lines.Line2D at 0x7fa6dcec5978>]"
            ]
          },
          "metadata": {
            "tags": []
          },
          "execution_count": 53
        },
        {
          "output_type": "display_data",
          "data": {
            "image/png": "[encoded data removed]",
            "text/plain": [
              "<Figure size 640x480 with 1 Axes>"
            ]
          },
          "metadata": {
            "tags": []
          }
        }
      ]
    },
    {
      "cell_type": "markdown",
      "metadata": {
        "id": "wZca_d7XDG60"
      },
      "source": [
        "## Pandas"
      ]
    },
    {
      "cell_type": "code",
      "metadata": {
        "colab": {
          "base_uri": "https://localhost:8080/",
          "height": 198
        },
        "id": "vLkC7sz4DFgN",
        "outputId": "13f60adc-63ae-4c8a-89ea-6542cc7ebddc"
      },
      "source": [
        "x = [\"John\", \"Peter\", \"Ashley\", \"Bob\", \"Ronald\"]\r\n",
        "y = [13, 14, 20, 25, 78]\r\n",
        "z = [\"Germany\", \"France\", \"Egypt\", \"USA\", \"Norway\"]\r\n",
        "\r\n",
        "data = pd.DataFrame({\"Name\": x, \"Ages\": y, \"Nationality\": z})\r\n",
        "\r\n",
        "data"
      ],
      "execution_count": null,
      "outputs": [
        {
          "output_type": "execute_result",
          "data": {
            "text/html": [
              "<div>\n",
              "<style scoped>\n",
              "    .dataframe tbody tr th:only-of-type {\n",
              "        vertical-align: middle;\n",
              "    }\n",
              "\n",
              "    .dataframe tbody tr th {\n",
              "        vertical-align: top;\n",
              "    }\n",
              "\n",
              "    .dataframe thead th {\n",
              "        text-align: right;\n",
              "    }\n",
              "</style>\n",
              "<table border=\"1\" class=\"dataframe\">\n",
              "  <thead>\n",
              "    <tr style=\"text-align: right;\">\n",
              "      <th></th>\n",
              "      <th>Name</th>\n",
              "      <th>Ages</th>\n",
              "      <th>Nationality</th>\n",
              "    </tr>\n",
              "  </thead>\n",
              "  <tbody>\n",
              "    <tr>\n",
              "      <th>0</th>\n",
              "      <td>John</td>\n",
              "      <td>13</td>\n",
              "      <td>Germany</td>\n",
              "    </tr>\n",
              "    <tr>\n",
              "      <th>1</th>\n",
              "      <td>Peter</td>\n",
              "      <td>14</td>\n",
              "      <td>France</td>\n",
              "    </tr>\n",
              "    <tr>\n",
              "      <th>2</th>\n",
              "      <td>Ashley</td>\n",
              "      <td>20</td>\n",
              "      <td>Egypt</td>\n",
              "    </tr>\n",
              "    <tr>\n",
              "      <th>3</th>\n",
              "      <td>Bob</td>\n",
              "      <td>25</td>\n",
              "      <td>USA</td>\n",
              "    </tr>\n",
              "    <tr>\n",
              "      <th>4</th>\n",
              "      <td>Ronald</td>\n",
              "      <td>78</td>\n",
              "      <td>Norway</td>\n",
              "    </tr>\n",
              "  </tbody>\n",
              "</table>\n",
              "</div>"
            ],
            "text/plain": [
              "     Name  Ages Nationality\n",
              "0    John    13     Germany\n",
              "1   Peter    14      France\n",
              "2  Ashley    20       Egypt\n",
              "3     Bob    25         USA\n",
              "4  Ronald    78      Norway"
            ]
          },
          "metadata": {
            "tags": []
          },
          "execution_count": 57
        }
      ]
    },
    {
      "cell_type": "code",
      "metadata": {
        "colab": {
          "base_uri": "https://localhost:8080/",
          "height": 198
        },
        "id": "HfH1ds3sD8wp",
        "outputId": "ed3b4776-25e2-4b94-bb24-95c5ea77be41"
      },
      "source": [
        "data[\"Occupation\"] = [\"Carpenter\", \"Mudlogger\", \"Petrophysicist\", \"Businessman\", \"Dentist\"]\r\n",
        "data[\"DOB\"] = [1990, 1991, 1967, 1978, 2002]\r\n",
        "\r\n",
        "data"
      ],
      "execution_count": null,
      "outputs": [
        {
          "output_type": "execute_result",
          "data": {
            "text/html": [
              "<div>\n",
              "<style scoped>\n",
              "    .dataframe tbody tr th:only-of-type {\n",
              "        vertical-align: middle;\n",
              "    }\n",
              "\n",
              "    .dataframe tbody tr th {\n",
              "        vertical-align: top;\n",
              "    }\n",
              "\n",
              "    .dataframe thead th {\n",
              "        text-align: right;\n",
              "    }\n",
              "</style>\n",
              "<table border=\"1\" class=\"dataframe\">\n",
              "  <thead>\n",
              "    <tr style=\"text-align: right;\">\n",
              "      <th></th>\n",
              "      <th>Name</th>\n",
              "      <th>Ages</th>\n",
              "      <th>Nationality</th>\n",
              "      <th>Occupation</th>\n",
              "      <th>DOB</th>\n",
              "    </tr>\n",
              "  </thead>\n",
              "  <tbody>\n",
              "    <tr>\n",
              "      <th>0</th>\n",
              "      <td>John</td>\n",
              "      <td>13</td>\n",
              "      <td>Germany</td>\n",
              "      <td>Carpenter</td>\n",
              "      <td>1990</td>\n",
              "    </tr>\n",
              "    <tr>\n",
              "      <th>1</th>\n",
              "      <td>Peter</td>\n",
              "      <td>14</td>\n",
              "      <td>France</td>\n",
              "      <td>Mudlogger</td>\n",
              "      <td>1991</td>\n",
              "    </tr>\n",
              "    <tr>\n",
              "      <th>2</th>\n",
              "      <td>Ashley</td>\n",
              "      <td>20</td>\n",
              "      <td>Egypt</td>\n",
              "      <td>Petrophysicist</td>\n",
              "      <td>1967</td>\n",
              "    </tr>\n",
              "    <tr>\n",
              "      <th>3</th>\n",
              "      <td>Bob</td>\n",
              "      <td>25</td>\n",
              "      <td>USA</td>\n",
              "      <td>Businessman</td>\n",
              "      <td>1978</td>\n",
              "    </tr>\n",
              "    <tr>\n",
              "      <th>4</th>\n",
              "      <td>Ronald</td>\n",
              "      <td>78</td>\n",
              "      <td>Norway</td>\n",
              "      <td>Dentist</td>\n",
              "      <td>2002</td>\n",
              "    </tr>\n",
              "  </tbody>\n",
              "</table>\n",
              "</div>"
            ],
            "text/plain": [
              "     Name  Ages Nationality      Occupation   DOB\n",
              "0    John    13     Germany       Carpenter  1990\n",
              "1   Peter    14      France       Mudlogger  1991\n",
              "2  Ashley    20       Egypt  Petrophysicist  1967\n",
              "3     Bob    25         USA     Businessman  1978\n",
              "4  Ronald    78      Norway         Dentist  2002"
            ]
          },
          "metadata": {
            "tags": []
          },
          "execution_count": 59
        }
      ]
    },
    {
      "cell_type": "code",
      "metadata": {
        "colab": {
          "base_uri": "https://localhost:8080/",
          "height": 198
        },
        "id": "rsHzolc-E_rD",
        "outputId": "cc9ef7db-ade7-47bb-de2e-1e6f2270cabf"
      },
      "source": [
        "data[\"Company\"] = [\"Chevron\", \"McDonalds\", \"KFC\", \"Shell\", \"Baker Hughes\"]\r\n",
        "\r\n",
        "data"
      ],
      "execution_count": null,
      "outputs": [
        {
          "output_type": "execute_result",
          "data": {
            "text/html": [
              "<div>\n",
              "<style scoped>\n",
              "    .dataframe tbody tr th:only-of-type {\n",
              "        vertical-align: middle;\n",
              "    }\n",
              "\n",
              "    .dataframe tbody tr th {\n",
              "        vertical-align: top;\n",
              "    }\n",
              "\n",
              "    .dataframe thead th {\n",
              "        text-align: right;\n",
              "    }\n",
              "</style>\n",
              "<table border=\"1\" class=\"dataframe\">\n",
              "  <thead>\n",
              "    <tr style=\"text-align: right;\">\n",
              "      <th></th>\n",
              "      <th>Name</th>\n",
              "      <th>Ages</th>\n",
              "      <th>Nationality</th>\n",
              "      <th>Occupation</th>\n",
              "      <th>DOB</th>\n",
              "      <th>Company</th>\n",
              "    </tr>\n",
              "  </thead>\n",
              "  <tbody>\n",
              "    <tr>\n",
              "      <th>0</th>\n",
              "      <td>John</td>\n",
              "      <td>13</td>\n",
              "      <td>Germany</td>\n",
              "      <td>Carpenter</td>\n",
              "      <td>1990</td>\n",
              "      <td>Chevron</td>\n",
              "    </tr>\n",
              "    <tr>\n",
              "      <th>1</th>\n",
              "      <td>Peter</td>\n",
              "      <td>14</td>\n",
              "      <td>France</td>\n",
              "      <td>Mudlogger</td>\n",
              "      <td>1991</td>\n",
              "      <td>McDonalds</td>\n",
              "    </tr>\n",
              "    <tr>\n",
              "      <th>2</th>\n",
              "      <td>Ashley</td>\n",
              "      <td>20</td>\n",
              "      <td>Egypt</td>\n",
              "      <td>Petrophysicist</td>\n",
              "      <td>1967</td>\n",
              "      <td>KFC</td>\n",
              "    </tr>\n",
              "    <tr>\n",
              "      <th>3</th>\n",
              "      <td>Bob</td>\n",
              "      <td>25</td>\n",
              "      <td>USA</td>\n",
              "      <td>Businessman</td>\n",
              "      <td>1978</td>\n",
              "      <td>Shell</td>\n",
              "    </tr>\n",
              "    <tr>\n",
              "      <th>4</th>\n",
              "      <td>Ronald</td>\n",
              "      <td>78</td>\n",
              "      <td>Norway</td>\n",
              "      <td>Dentist</td>\n",
              "      <td>2002</td>\n",
              "      <td>Baker Hughes</td>\n",
              "    </tr>\n",
              "  </tbody>\n",
              "</table>\n",
              "</div>"
            ],
            "text/plain": [
              "     Name  Ages Nationality      Occupation   DOB       Company\n",
              "0    John    13     Germany       Carpenter  1990       Chevron\n",
              "1   Peter    14      France       Mudlogger  1991     McDonalds\n",
              "2  Ashley    20       Egypt  Petrophysicist  1967           KFC\n",
              "3     Bob    25         USA     Businessman  1978         Shell\n",
              "4  Ronald    78      Norway         Dentist  2002  Baker Hughes"
            ]
          },
          "metadata": {
            "tags": []
          },
          "execution_count": 64
        }
      ]
    },
    {
      "cell_type": "code",
      "metadata": {
        "colab": {
          "base_uri": "https://localhost:8080/",
          "height": 78
        },
        "id": "uqh66Hh0FUBG",
        "outputId": "48fa4c1e-16ee-489b-fabd-7de742fd5696"
      },
      "source": [
        "# Print who is working for Chevron\r\n",
        "mask = data[\"Company\"]==\"Chevron\"\r\n",
        "\r\n",
        "data[mask]"
      ],
      "execution_count": null,
      "outputs": [
        {
          "output_type": "execute_result",
          "data": {
            "text/html": [
              "<div>\n",
              "<style scoped>\n",
              "    .dataframe tbody tr th:only-of-type {\n",
              "        vertical-align: middle;\n",
              "    }\n",
              "\n",
              "    .dataframe tbody tr th {\n",
              "        vertical-align: top;\n",
              "    }\n",
              "\n",
              "    .dataframe thead th {\n",
              "        text-align: right;\n",
              "    }\n",
              "</style>\n",
              "<table border=\"1\" class=\"dataframe\">\n",
              "  <thead>\n",
              "    <tr style=\"text-align: right;\">\n",
              "      <th></th>\n",
              "      <th>Name</th>\n",
              "      <th>Ages</th>\n",
              "      <th>Nationality</th>\n",
              "      <th>Occupation</th>\n",
              "      <th>DOB</th>\n",
              "      <th>Company</th>\n",
              "    </tr>\n",
              "  </thead>\n",
              "  <tbody>\n",
              "    <tr>\n",
              "      <th>0</th>\n",
              "      <td>John</td>\n",
              "      <td>13</td>\n",
              "      <td>Germany</td>\n",
              "      <td>Carpenter</td>\n",
              "      <td>1990</td>\n",
              "      <td>Chevron</td>\n",
              "    </tr>\n",
              "  </tbody>\n",
              "</table>\n",
              "</div>"
            ],
            "text/plain": [
              "   Name  Ages Nationality Occupation   DOB  Company\n",
              "0  John    13     Germany  Carpenter  1990  Chevron"
            ]
          },
          "metadata": {
            "tags": []
          },
          "execution_count": 67
        }
      ]
    },
    {
      "cell_type": "code",
      "metadata": {
        "colab": {
          "base_uri": "https://localhost:8080/",
          "height": 108
        },
        "id": "CWjTP5aeGJLD",
        "outputId": "1d410e64-39a2-48fd-a33c-f14795e6c726"
      },
      "source": [
        "# Print the names who was born after 1990\r\n",
        "mask = data[\"DOB\"] < 1980\r\n",
        "\r\n",
        "data[mask]"
      ],
      "execution_count": null,
      "outputs": [
        {
          "output_type": "execute_result",
          "data": {
            "text/html": [
              "<div>\n",
              "<style scoped>\n",
              "    .dataframe tbody tr th:only-of-type {\n",
              "        vertical-align: middle;\n",
              "    }\n",
              "\n",
              "    .dataframe tbody tr th {\n",
              "        vertical-align: top;\n",
              "    }\n",
              "\n",
              "    .dataframe thead th {\n",
              "        text-align: right;\n",
              "    }\n",
              "</style>\n",
              "<table border=\"1\" class=\"dataframe\">\n",
              "  <thead>\n",
              "    <tr style=\"text-align: right;\">\n",
              "      <th></th>\n",
              "      <th>Name</th>\n",
              "      <th>Ages</th>\n",
              "      <th>Nationality</th>\n",
              "      <th>Occupation</th>\n",
              "      <th>DOB</th>\n",
              "      <th>Company</th>\n",
              "    </tr>\n",
              "  </thead>\n",
              "  <tbody>\n",
              "    <tr>\n",
              "      <th>2</th>\n",
              "      <td>Ashley</td>\n",
              "      <td>20</td>\n",
              "      <td>Egypt</td>\n",
              "      <td>Petrophysicist</td>\n",
              "      <td>1967</td>\n",
              "      <td>KFC</td>\n",
              "    </tr>\n",
              "    <tr>\n",
              "      <th>3</th>\n",
              "      <td>Bob</td>\n",
              "      <td>25</td>\n",
              "      <td>USA</td>\n",
              "      <td>Businessman</td>\n",
              "      <td>1978</td>\n",
              "      <td>Shell</td>\n",
              "    </tr>\n",
              "  </tbody>\n",
              "</table>\n",
              "</div>"
            ],
            "text/plain": [
              "     Name  Ages Nationality      Occupation   DOB Company\n",
              "2  Ashley    20       Egypt  Petrophysicist  1967     KFC\n",
              "3     Bob    25         USA     Businessman  1978   Shell"
            ]
          },
          "metadata": {
            "tags": []
          },
          "execution_count": 69
        }
      ]
    },
    {
      "cell_type": "markdown",
      "metadata": {
        "id": "NcAH5iHSG6R0"
      },
      "source": [
        "## SciPy"
      ]
    },
    {
      "cell_type": "markdown",
      "metadata": {
        "id": "eKnu3jTLHCJX"
      },
      "source": [
        "Curve-fitting"
      ]
    },
    {
      "cell_type": "code",
      "metadata": {
        "colab": {
          "base_uri": "https://localhost:8080/",
          "height": 440
        },
        "id": "WnvW2zlnGusU",
        "outputId": "c62a4ce5-6ad2-4803-ffb5-c0eb42074121"
      },
      "source": [
        "x = np.linspace(0.1, 50.5, 100)\r\n",
        "\r\n",
        "# def polynomial(x):\r\n",
        "#   return 0.5 * (x**2) + 0.7 * x + 10\r\n",
        "\r\n",
        "y = polynomial(x)\r\n",
        "\r\n",
        "noise = np.random.random(100) * 100\r\n",
        "\r\n",
        "ydata = y + noise\r\n",
        "\r\n",
        "plt.scatter(x, ydata, color=\"red\")\r\n",
        "plt.show()"
      ],
      "execution_count": null,
      "outputs": [
        {
          "output_type": "display_data",
          "data": {
            "image/png": "[encoded data removed]",
            "text/plain": [
              "<Figure size 640x480 with 1 Axes>"
            ]
          },
          "metadata": {
            "tags": []
          }
        }
      ]
    },
    {
      "cell_type": "markdown",
      "metadata": {
        "id": "XBIlf4bMIsJ0"
      },
      "source": [
        "$$y=Ax^2 + B x + C$$"
      ]
    },
    {
      "cell_type": "code",
      "metadata": {
        "colab": {
          "base_uri": "https://localhost:8080/"
        },
        "id": "iIEnYSJ8ITmf",
        "outputId": "1e35ea50-b7c6-41f5-d616-4e08abc031f2"
      },
      "source": [
        "from scipy.optimize import curve_fit\r\n",
        "\r\n",
        "def polynomial2(x, a, b, c):\r\n",
        "  y = a * x**2 + b * x + c\r\n",
        "  return y\r\n",
        "\r\n",
        "# x and y data are our data, that hasn't been fitted\r\n",
        "curve_fit(polynomial2, x, ydata)"
      ],
      "execution_count": null,
      "outputs": [
        {
          "output_type": "execute_result",
          "data": {
            "text/plain": [
              "(array([ 0.49507611,  1.16682362, 52.62428369]),\n",
              " array([[ 2.37941817e-04, -1.20398561e-02,  1.00919131e-01],\n",
              "        [-1.20398561e-02,  6.50312427e-01, -6.14622929e+00],\n",
              "        [ 1.00919131e-01, -6.14622929e+00,  7.79830222e+01]]))"
            ]
          },
          "metadata": {
            "tags": []
          },
          "execution_count": 85
        }
      ]
    },
    {
      "cell_type": "code",
      "metadata": {
        "colab": {
          "base_uri": "https://localhost:8080/",
          "height": 440
        },
        "id": "RchC4PgGJwIX",
        "outputId": "a7558186-1bf2-448e-9bc9-27cab50f6015"
      },
      "source": [
        "yfit = polynomial2(x, a=0.49507611, b=1.16682362, c=52.62428369)\r\n",
        "\r\n",
        "plt.scatter(x, ydata)\r\n",
        "plt.plot(x, yfit, color=\"red\")\r\n",
        "\r\n",
        "plt.show()"
      ],
      "execution_count": null,
      "outputs": [
        {
          "output_type": "display_data",
          "data": {
            "image/png": "[encoded data removed]",
            "text/plain": [
              "<Figure size 640x480 with 1 Axes>"
            ]
          },
          "metadata": {
            "tags": []
          }
        }
      ]
    },
    {
      "cell_type": "markdown",
      "metadata": {
        "id": "R3XnSPoDOuTx"
      },
      "source": [
        "np.loadtxt > loading TXT file\r\n",
        "pd.read_csv > loading CSV file\r\n",
        "\r\n",
        "LAS file > lasio library\r\n",
        "SEGY file > segyio library\r\n"
      ]
    },
    {
      "cell_type": "code",
      "metadata": {
        "id": "FIUz-zB7N1Zy"
      },
      "source": [
        "def r_squared(ydata, yfit):\r\n",
        "  R2 = np.sqrt(np.sum((yfit-ydata)**2))\r\n",
        "  return R2"
      ],
      "execution_count": null,
      "outputs": []
    },
    {
      "cell_type": "code",
      "metadata": {
        "colab": {
          "base_uri": "https://localhost:8080/"
        },
        "id": "-wDrRkf5OIsq",
        "outputId": "4257eb40-dbf3-45ff-9be3-37f69a563e7f"
      },
      "source": [
        "r_squared(ydata, yfit)"
      ],
      "execution_count": null,
      "outputs": [
        {
          "output_type": "execute_result",
          "data": {
            "text/plain": [
              "293.4046892360701"
            ]
          },
          "metadata": {
            "tags": []
          },
          "execution_count": 109
        }
      ]
    },
    {
      "cell_type": "code",
      "metadata": {
        "colab": {
          "base_uri": "https://localhost:8080/"
        },
        "id": "kX--pnzgNvut",
        "outputId": "a188f4d3-5c06-4b58-f9b1-faa1e06b71b7"
      },
      "source": [
        "print(x, ydata) # data\r\n",
        "print(x, yfit)"
      ],
      "execution_count": null,
      "outputs": [
        {
          "output_type": "stream",
          "text": [
            "[ 0.1         0.60909091  1.11818182  1.62727273  2.13636364  2.64545455\n",
            "  3.15454545  3.66363636  4.17272727  4.68181818  5.19090909  5.7\n",
            "  6.20909091  6.71818182  7.22727273  7.73636364  8.24545455  8.75454545\n",
            "  9.26363636  9.77272727 10.28181818 10.79090909 11.3        11.80909091\n",
            " 12.31818182 12.82727273 13.33636364 13.84545455 14.35454545 14.86363636\n",
            " 15.37272727 15.88181818 16.39090909 16.9        17.40909091 17.91818182\n",
            " 18.42727273 18.93636364 19.44545455 19.95454545 20.46363636 20.97272727\n",
            " 21.48181818 21.99090909 22.5        23.00909091 23.51818182 24.02727273\n",
            " 24.53636364 25.04545455 25.55454545 26.06363636 26.57272727 27.08181818\n",
            " 27.59090909 28.1        28.60909091 29.11818182 29.62727273 30.13636364\n",
            " 30.64545455 31.15454545 31.66363636 32.17272727 32.68181818 33.19090909\n",
            " 33.7        34.20909091 34.71818182 35.22727273 35.73636364 36.24545455\n",
            " 36.75454545 37.26363636 37.77272727 38.28181818 38.79090909 39.3\n",
            " 39.80909091 40.31818182 40.82727273 41.33636364 41.84545455 42.35454545\n",
            " 42.86363636 43.37272727 43.88181818 44.39090909 44.9        45.40909091\n",
            " 45.91818182 46.42727273 46.93636364 47.44545455 47.95454545 48.46363636\n",
            " 48.97272727 49.48181818 49.99090909 50.5       ] [ 105.05820522   95.08267025   50.01757811   27.55951876   99.86766773\n",
            "   22.87866594   33.64165658   77.2922472    88.29958988  115.59550272\n",
            "   39.35896709   32.64353332  129.27704762   95.09019731   44.69830428\n",
            "   67.89084685   66.70325541  114.91325271  130.78993156   76.12517058\n",
            "  127.85527318   92.41284423   91.7184986   133.70938881  168.41190888\n",
            "  119.18646669  188.18299461  202.71756204  125.62406983  196.56907044\n",
            "  235.00295537  154.28890738  190.63681067  198.46482577  225.88369615\n",
            "  196.52029456  206.0583588   217.57069466  289.93575488  273.42988598\n",
            "  323.91739293  276.11882201  276.10132784  339.34720375  334.54542875\n",
            "  383.00881263  304.65063181  349.15333025  407.22441701  393.39355979\n",
            "  415.02086037  389.55776747  448.4512752   470.21347781  429.18021441\n",
            "  439.22192545  463.68713782  511.1113981   555.20228969  565.00789133\n",
            "  579.89710596  558.55512172  600.88142978  578.6605533   658.42985167\n",
            "  641.66977815  697.25143617  679.37855678  712.31991478  696.52069019\n",
            "  681.67279966  740.31412921  793.48034695  824.88639263  817.45231641\n",
            "  857.9718803   878.47294824  834.50654888  831.56377959  909.42285443\n",
            "  952.29831114  926.3979042   988.86307691  973.93636294  971.71310516\n",
            " 1065.68438983 1095.6967456  1079.6278742  1126.20294802 1127.53699514\n",
            " 1105.65917882 1193.98342075 1161.8944034  1208.29149432 1216.99532167\n",
            " 1280.19587805 1308.86492088 1323.57523042 1306.75824727 1386.73903851]\n",
            "[ 0.1         0.60909091  1.11818182  1.62727273  2.13636364  2.64545455\n",
            "  3.15454545  3.66363636  4.17272727  4.68181818  5.19090909  5.7\n",
            "  6.20909091  6.71818182  7.22727273  7.73636364  8.24545455  8.75454545\n",
            "  9.26363636  9.77272727 10.28181818 10.79090909 11.3        11.80909091\n",
            " 12.31818182 12.82727273 13.33636364 13.84545455 14.35454545 14.86363636\n",
            " 15.37272727 15.88181818 16.39090909 16.9        17.40909091 17.91818182\n",
            " 18.42727273 18.93636364 19.44545455 19.95454545 20.46363636 20.97272727\n",
            " 21.48181818 21.99090909 22.5        23.00909091 23.51818182 24.02727273\n",
            " 24.53636364 25.04545455 25.55454545 26.06363636 26.57272727 27.08181818\n",
            " 27.59090909 28.1        28.60909091 29.11818182 29.62727273 30.13636364\n",
            " 30.64545455 31.15454545 31.66363636 32.17272727 32.68181818 33.19090909\n",
            " 33.7        34.20909091 34.71818182 35.22727273 35.73636364 36.24545455\n",
            " 36.75454545 37.26363636 37.77272727 38.28181818 38.79090909 39.3\n",
            " 39.80909091 40.31818182 40.82727273 41.33636364 41.84545455 42.35454545\n",
            " 42.86363636 43.37272727 43.88181818 44.39090909 44.9        45.40909091\n",
            " 45.91818182 46.42727273 46.93636364 47.44545455 47.95454545 48.46363636\n",
            " 48.97272727 49.48181818 49.99090909 50.5       ] [  52.74591681   53.51865449   54.54801345   55.83399367   57.37659516\n",
            "   59.17581792   61.23166195   63.54412725   66.11321381   68.93892165\n",
            "   72.02125076   75.36020114   78.95577278   82.8079657    86.91677989\n",
            "   91.28221534   95.90427207  100.78295006  105.91824933  111.31016986\n",
            "  116.95871167  122.86387474  129.02565908  135.44406469  142.11909158\n",
            "  149.05073973  156.23900915  163.68389984  171.3854118   179.34354503\n",
            "  187.55829953  196.0296753   204.75767234  213.74229065  222.98353022\n",
            "  232.48139107  242.23587319  252.24697657  262.51470123  273.03904716\n",
            "  283.82001435  294.85760282  306.15181255  317.70264355  329.51009583\n",
            "  341.57416937  353.89486418  366.47218027  379.30611762  392.39667624\n",
            "  405.74385613  419.34765729  433.20807972  447.32512342  461.69878839\n",
            "  476.32907463  491.21598214  506.35951092  521.75966096  537.41643228\n",
            "  553.32982487  569.49983872  585.92647385  602.60973025  619.54960791\n",
            "  636.74610685  654.19922705  671.90896852  689.87533127  708.09831528\n",
            "  726.57792056  745.31414712  764.30699494  783.55646403  803.06255439\n",
            "  822.82526602  842.84459892  863.12055309  883.65312853  904.44232524\n",
            "  925.48814322  946.79058246  968.34964298  990.16532477 1012.23762783\n",
            " 1034.56655215 1057.15209775 1079.99426461 1103.09305275 1126.44846215\n",
            " 1150.06049283 1173.92914477 1198.05441799 1222.43631247 1247.07482822\n",
            " 1271.96996524 1297.12172353 1322.5301031  1348.19510393 1374.11672603]\n"
          ],
          "name": "stdout"
        }
      ]
    },
    {
      "cell_type": "markdown",
      "metadata": {
        "id": "7FcFJvXiKRu1"
      },
      "source": [
        "Root-finding, interpolation-extrapolation"
      ]
    },
    {
      "cell_type": "markdown",
      "metadata": {
        "id": "4AVRoTZoKX3h"
      },
      "source": [
        "## Plotly"
      ]
    },
    {
      "cell_type": "code",
      "metadata": {
        "id": "vf2r2RtjKaD1"
      },
      "source": [
        "import plotly.express as px\r\n",
        "import plotly.graph_objects as go"
      ],
      "execution_count": null,
      "outputs": []
    },
    {
      "cell_type": "code",
      "metadata": {
        "colab": {
          "base_uri": "https://localhost:8080/",
          "height": 542
        },
        "id": "74iwkyQYKgH0",
        "outputId": "adc45932-f3b1-44e7-837e-eff142cb4e26"
      },
      "source": [
        "fig = px.scatter(x=x, y=ydata, color=ydata)\r\n",
        "# fig = px.line(x=x, y=yfit)\r\n",
        "\r\n",
        "fig.show()"
      ],
      "execution_count": null,
      "outputs": [
        {
          "output_type": "display_data",
          "data": {
            "text/html": [
              "<html>\n",
              "<head><meta charset=\"utf-8\" /></head>\n",
              "<body>\n",
              "    <div>\n",
              "            <script src=\"https://cdnjs.cloudflare.com/ajax/libs/mathjax/2.7.5/MathJax.js?config=TeX-AMS-MML_SVG\"></script><script type=\"text/javascript\">if (window.MathJax) {MathJax.Hub.Config({SVG: {font: \"STIX-Web\"}});}</script>\n",
              "                <script type=\"text/javascript\">window.PlotlyConfig = {MathJaxConfig: 'local'};</script>\n",
              "        <script src=\"https://cdn.plot.ly/plotly-latest.min.js\"></script>    \n",
              "            <div id=\"a47920a4-d22f-4f23-b6c8-6dea20f353c3\" class=\"plotly-graph-div\" style=\"height:525px; width:100%;\"></div>\n",
              "            <script type=\"text/javascript\">\n",
              "                \n",
              "                    window.PLOTLYENV=window.PLOTLYENV || {};\n",
              "                    \n",
              "                if (document.getElementById(\"a47920a4-d22f-4f23-b6c8-6dea20f353c3\")) {\n",
              "                    Plotly.newPlot(\n",
              "                        'a47920a4-d22f-4f23-b6c8-6dea20f353c3',\n",
              "                        [{\"hoverlabel\": {\"namelength\": 0}, \"hovertemplate\": \"x=%{x}<br>y=%{y}<br>color=%{marker.color}\", \"legendgroup\": \"\", \"marker\": {\"color\": [105.05820522195118, 95.0826702483489, 50.01757811062369, 27.55951875608651, 99.86766772620383, 22.878665937351492, 33.64165657684283, 77.29224720042563, 88.29958988207093, 115.59550271640643, 39.35896709482472, 32.64353332046125, 129.277047621829, 95.09019730658235, 44.698304275853076, 67.8908468452803, 66.7032554055492, 114.91325271029186, 130.78993155950295, 76.12517057778813, 127.85527317800145, 92.41284422588558, 91.71849859800717, 133.70938880505418, 168.41190887972434, 119.18646669180663, 188.1829946147779, 202.7175620359005, 125.62406982711533, 196.5690704399796, 235.00295536509134, 154.28890738470633, 190.6368106652636, 198.46482576773576, 225.8836961507066, 196.52029456460423, 206.05835880092994, 217.57069466271832, 289.9357548788687, 273.4298859783474, 323.91739293310786, 276.1188220135819, 276.1013278400954, 339.3472037533864, 334.54542875039925, 383.0088126315845, 304.65063180878656, 349.1533302505533, 407.22441701290654, 393.3935597943076, 415.02086037224416, 389.5577674743201, 448.4512752005727, 470.2134778088551, 429.1802144071529, 439.2219254483901, 463.6871378177196, 511.1113980996687, 555.2022896938156, 565.0078913278185, 579.897105957376, 558.555121715442, 600.881429784964, 578.6605533047849, 658.4298516724771, 641.6697781495847, 697.2514361711288, 679.3785567837533, 712.319914781454, 696.5206901948073, 681.6727996558566, 740.3141292074359, 793.4803469516623, 824.8863926300003, 817.4523164123746, 857.9718803046665, 878.472948244057, 834.5065488792903, 831.5637795860695, 909.4228544279489, 952.298311141819, 926.3979041988821, 988.8630769057754, 973.9363629357943, 971.7131051589326, 1065.6843898307186, 1095.6967455986994, 1079.6278742008762, 1126.2029480213932, 1127.5369951418388, 1105.6591788164353, 1193.983420749945, 1161.8944034002893, 1208.2914943225258, 1216.9953216738293, 1280.1958780509694, 1308.864920878242, 1323.5752304150992, 1306.758247270733, 1386.7390385057197], \"coloraxis\": \"coloraxis\", \"symbol\": \"circle\"}, \"mode\": \"markers\", \"name\": \"\", \"showlegend\": false, \"type\": \"scatter\", \"x\": [0.1, 0.609090909090909, 1.1181818181818182, 1.6272727272727272, 2.1363636363636362, 2.645454545454545, 3.1545454545454543, 3.6636363636363636, 4.172727272727272, 4.681818181818181, 5.19090909090909, 5.699999999999999, 6.209090909090908, 6.718181818181817, 7.227272727272727, 7.736363636363635, 8.245454545454544, 8.754545454545454, 9.263636363636362, 9.772727272727272, 10.28181818181818, 10.79090909090909, 11.299999999999999, 11.809090909090907, 12.318181818181817, 12.827272727272726, 13.336363636363634, 13.845454545454544, 14.354545454545454, 14.863636363636362, 15.372727272727271, 15.88181818181818, 16.39090909090909, 16.9, 17.40909090909091, 17.918181818181818, 18.427272727272726, 18.936363636363637, 19.445454545454545, 19.954545454545453, 20.46363636363636, 20.972727272727273, 21.48181818181818, 21.99090909090909, 22.5, 23.009090909090908, 23.518181818181816, 24.027272727272727, 24.536363636363635, 25.045454545454543, 25.554545454545455, 26.063636363636363, 26.57272727272727, 27.081818181818182, 27.59090909090909, 28.099999999999998, 28.60909090909091, 29.118181818181817, 29.627272727272725, 30.136363636363633, 30.645454545454545, 31.154545454545453, 31.66363636363636, 32.17272727272727, 32.68181818181818, 33.19090909090909, 33.699999999999996, 34.209090909090904, 34.71818181818182, 35.22727272727273, 35.736363636363635, 36.24545454545454, 36.75454545454545, 37.26363636363636, 37.77272727272727, 38.28181818181818, 38.79090909090909, 39.3, 39.809090909090905, 40.31818181818181, 40.82727272727272, 41.336363636363636, 41.845454545454544, 42.35454545454545, 42.86363636363636, 43.37272727272727, 43.881818181818176, 44.39090909090909, 44.9, 45.40909090909091, 45.918181818181814, 46.42727272727272, 46.93636363636363, 47.445454545454545, 47.95454545454545, 48.46363636363636, 48.97272727272727, 49.48181818181818, 49.990909090909085, 50.5], \"xaxis\": \"x\", \"y\": [105.05820522195118, 95.0826702483489, 50.01757811062369, 27.55951875608651, 99.86766772620383, 22.878665937351492, 33.64165657684283, 77.29224720042563, 88.29958988207093, 115.59550271640643, 39.35896709482472, 32.64353332046125, 129.277047621829, 95.09019730658235, 44.698304275853076, 67.8908468452803, 66.7032554055492, 114.91325271029186, 130.78993155950295, 76.12517057778813, 127.85527317800145, 92.41284422588558, 91.71849859800717, 133.70938880505418, 168.41190887972434, 119.18646669180663, 188.1829946147779, 202.7175620359005, 125.62406982711533, 196.5690704399796, 235.00295536509134, 154.28890738470633, 190.6368106652636, 198.46482576773576, 225.8836961507066, 196.52029456460423, 206.05835880092994, 217.57069466271832, 289.9357548788687, 273.4298859783474, 323.91739293310786, 276.1188220135819, 276.1013278400954, 339.3472037533864, 334.54542875039925, 383.0088126315845, 304.65063180878656, 349.1533302505533, 407.22441701290654, 393.3935597943076, 415.02086037224416, 389.5577674743201, 448.4512752005727, 470.2134778088551, 429.1802144071529, 439.2219254483901, 463.6871378177196, 511.1113980996687, 555.2022896938156, 565.0078913278185, 579.897105957376, 558.555121715442, 600.881429784964, 578.6605533047849, 658.4298516724771, 641.6697781495847, 697.2514361711288, 679.3785567837533, 712.319914781454, 696.5206901948073, 681.6727996558566, 740.3141292074359, 793.4803469516623, 824.8863926300003, 817.4523164123746, 857.9718803046665, 878.472948244057, 834.5065488792903, 831.5637795860695, 909.4228544279489, 952.298311141819, 926.3979041988821, 988.8630769057754, 973.9363629357943, 971.7131051589326, 1065.6843898307186, 1095.6967455986994, 1079.6278742008762, 1126.2029480213932, 1127.5369951418388, 1105.6591788164353, 1193.983420749945, 1161.8944034002893, 1208.2914943225258, 1216.9953216738293, 1280.1958780509694, 1308.864920878242, 1323.5752304150992, 1306.758247270733, 1386.7390385057197], \"yaxis\": \"y\"}],\n",
              "                        {\"coloraxis\": {\"colorbar\": {\"title\": {\"text\": \"color\"}}, \"colorscale\": [[0.0, \"#0d0887\"], [0.1111111111111111, \"#46039f\"], [0.2222222222222222, \"#7201a8\"], [0.3333333333333333, \"#9c179e\"], [0.4444444444444444, \"#bd3786\"], [0.5555555555555556, \"#d8576b\"], [0.6666666666666666, \"#ed7953\"], [0.7777777777777778, \"#fb9f3a\"], [0.8888888888888888, \"#fdca26\"], [1.0, \"#f0f921\"]]}, \"legend\": {\"tracegroupgap\": 0}, \"margin\": {\"t\": 60}, \"template\": {\"data\": {\"bar\": [{\"error_x\": {\"color\": \"#2a3f5f\"}, \"error_y\": {\"color\": \"#2a3f5f\"}, \"marker\": {\"line\": {\"color\": \"#E5ECF6\", \"width\": 0.5}}, \"type\": \"bar\"}], \"barpolar\": [{\"marker\": {\"line\": {\"color\": \"#E5ECF6\", \"width\": 0.5}}, \"type\": \"barpolar\"}], \"carpet\": [{\"aaxis\": {\"endlinecolor\": \"#2a3f5f\", \"gridcolor\": \"white\", \"linecolor\": \"white\", \"minorgridcolor\": \"white\", \"startlinecolor\": \"#2a3f5f\"}, \"baxis\": {\"endlinecolor\": \"#2a3f5f\", \"gridcolor\": \"white\", \"linecolor\": \"white\", \"minorgridcolor\": \"white\", \"startlinecolor\": \"#2a3f5f\"}, \"type\": \"carpet\"}], \"choropleth\": [{\"colorbar\": {\"outlinewidth\": 0, \"ticks\": \"\"}, \"type\": \"choropleth\"}], \"contour\": [{\"colorbar\": {\"outlinewidth\": 0, \"ticks\": \"\"}, \"colorscale\": [[0.0, \"#0d0887\"], [0.1111111111111111, \"#46039f\"], [0.2222222222222222, \"#7201a8\"], [0.3333333333333333, \"#9c179e\"], [0.4444444444444444, \"#bd3786\"], [0.5555555555555556, \"#d8576b\"], [0.6666666666666666, \"#ed7953\"], [0.7777777777777778, \"#fb9f3a\"], [0.8888888888888888, \"#fdca26\"], [1.0, \"#f0f921\"]], \"type\": \"contour\"}], \"contourcarpet\": [{\"colorbar\": {\"outlinewidth\": 0, \"ticks\": \"\"}, \"type\": \"contourcarpet\"}], \"heatmap\": [{\"colorbar\": {\"outlinewidth\": 0, \"ticks\": \"\"}, \"colorscale\": [[0.0, \"#0d0887\"], [0.1111111111111111, \"#46039f\"], [0.2222222222222222, \"#7201a8\"], [0.3333333333333333, \"#9c179e\"], [0.4444444444444444, \"#bd3786\"], [0.5555555555555556, \"#d8576b\"], [0.6666666666666666, \"#ed7953\"], [0.7777777777777778, \"#fb9f3a\"], [0.8888888888888888, \"#fdca26\"], [1.0, \"#f0f921\"]], \"type\": \"heatmap\"}], \"heatmapgl\": [{\"colorbar\": {\"outlinewidth\": 0, \"ticks\": \"\"}, \"colorscale\": [[0.0, \"#0d0887\"], [0.1111111111111111, \"#46039f\"], [0.2222222222222222, \"#7201a8\"], [0.3333333333333333, \"#9c179e\"], [0.4444444444444444, \"#bd3786\"], [0.5555555555555556, \"#d8576b\"], [0.6666666666666666, \"#ed7953\"], [0.7777777777777778, \"#fb9f3a\"], [0.8888888888888888, \"#fdca26\"], [1.0, \"#f0f921\"]], \"type\": \"heatmapgl\"}], \"histogram\": [{\"marker\": {\"colorbar\": {\"outlinewidth\": 0, \"ticks\": \"\"}}, \"type\": \"histogram\"}], \"histogram2d\": [{\"colorbar\": {\"outlinewidth\": 0, \"ticks\": \"\"}, \"colorscale\": [[0.0, \"#0d0887\"], [0.1111111111111111, \"#46039f\"], [0.2222222222222222, \"#7201a8\"], [0.3333333333333333, \"#9c179e\"], [0.4444444444444444, \"#bd3786\"], [0.5555555555555556, \"#d8576b\"], [0.6666666666666666, \"#ed7953\"], [0.7777777777777778, \"#fb9f3a\"], [0.8888888888888888, \"#fdca26\"], [1.0, \"#f0f921\"]], \"type\": \"histogram2d\"}], \"histogram2dcontour\": [{\"colorbar\": {\"outlinewidth\": 0, \"ticks\": \"\"}, \"colorscale\": [[0.0, \"#0d0887\"], [0.1111111111111111, \"#46039f\"], [0.2222222222222222, \"#7201a8\"], [0.3333333333333333, \"#9c179e\"], [0.4444444444444444, \"#bd3786\"], [0.5555555555555556, \"#d8576b\"], [0.6666666666666666, \"#ed7953\"], [0.7777777777777778, \"#fb9f3a\"], [0.8888888888888888, \"#fdca26\"], [1.0, \"#f0f921\"]], \"type\": \"histogram2dcontour\"}], \"mesh3d\": [{\"colorbar\": {\"outlinewidth\": 0, \"ticks\": \"\"}, \"type\": \"mesh3d\"}], \"parcoords\": [{\"line\": {\"colorbar\": {\"outlinewidth\": 0, \"ticks\": \"\"}}, \"type\": \"parcoords\"}], \"pie\": [{\"automargin\": true, \"type\": \"pie\"}], \"scatter\": [{\"marker\": {\"colorbar\": {\"outlinewidth\": 0, \"ticks\": \"\"}}, \"type\": \"scatter\"}], \"scatter3d\": [{\"line\": {\"colorbar\": {\"outlinewidth\": 0, \"ticks\": \"\"}}, \"marker\": {\"colorbar\": {\"outlinewidth\": 0, \"ticks\": \"\"}}, \"type\": \"scatter3d\"}], \"scattercarpet\": [{\"marker\": {\"colorbar\": {\"outlinewidth\": 0, \"ticks\": \"\"}}, \"type\": \"scattercarpet\"}], \"scattergeo\": [{\"marker\": {\"colorbar\": {\"outlinewidth\": 0, \"ticks\": \"\"}}, \"type\": \"scattergeo\"}], \"scattergl\": [{\"marker\": {\"colorbar\": {\"outlinewidth\": 0, \"ticks\": \"\"}}, \"type\": \"scattergl\"}], \"scattermapbox\": [{\"marker\": {\"colorbar\": {\"outlinewidth\": 0, \"ticks\": \"\"}}, \"type\": \"scattermapbox\"}], \"scatterpolar\": [{\"marker\": {\"colorbar\": {\"outlinewidth\": 0, \"ticks\": \"\"}}, \"type\": \"scatterpolar\"}], \"scatterpolargl\": [{\"marker\": {\"colorbar\": {\"outlinewidth\": 0, \"ticks\": \"\"}}, \"type\": \"scatterpolargl\"}], \"scatterternary\": [{\"marker\": {\"colorbar\": {\"outlinewidth\": 0, \"ticks\": \"\"}}, \"type\": \"scatterternary\"}], \"surface\": [{\"colorbar\": {\"outlinewidth\": 0, \"ticks\": \"\"}, \"colorscale\": [[0.0, \"#0d0887\"], [0.1111111111111111, \"#46039f\"], [0.2222222222222222, \"#7201a8\"], [0.3333333333333333, \"#9c179e\"], [0.4444444444444444, \"#bd3786\"], [0.5555555555555556, \"#d8576b\"], [0.6666666666666666, \"#ed7953\"], [0.7777777777777778, \"#fb9f3a\"], [0.8888888888888888, \"#fdca26\"], [1.0, \"#f0f921\"]], \"type\": \"surface\"}], \"table\": [{\"cells\": {\"fill\": {\"color\": \"#EBF0F8\"}, \"line\": {\"color\": \"white\"}}, \"header\": {\"fill\": {\"color\": \"#C8D4E3\"}, \"line\": {\"color\": \"white\"}}, \"type\": \"table\"}]}, \"layout\": {\"annotationdefaults\": {\"arrowcolor\": \"#2a3f5f\", \"arrowhead\": 0, \"arrowwidth\": 1}, \"coloraxis\": {\"colorbar\": {\"outlinewidth\": 0, \"ticks\": \"\"}}, \"colorscale\": {\"diverging\": [[0, \"#8e0152\"], [0.1, \"#c51b7d\"], [0.2, \"#de77ae\"], [0.3, \"#f1b6da\"], [0.4, \"#fde0ef\"], [0.5, \"#f7f7f7\"], [0.6, \"#e6f5d0\"], [0.7, \"#b8e186\"], [0.8, \"#7fbc41\"], [0.9, \"#4d9221\"], [1, \"#276419\"]], \"sequential\": [[0.0, \"#0d0887\"], [0.1111111111111111, \"#46039f\"], [0.2222222222222222, \"#7201a8\"], [0.3333333333333333, \"#9c179e\"], [0.4444444444444444, \"#bd3786\"], [0.5555555555555556, \"#d8576b\"], [0.6666666666666666, \"#ed7953\"], [0.7777777777777778, \"#fb9f3a\"], [0.8888888888888888, \"#fdca26\"], [1.0, \"#f0f921\"]], \"sequentialminus\": [[0.0, \"#0d0887\"], [0.1111111111111111, \"#46039f\"], [0.2222222222222222, \"#7201a8\"], [0.3333333333333333, \"#9c179e\"], [0.4444444444444444, \"#bd3786\"], [0.5555555555555556, \"#d8576b\"], [0.6666666666666666, \"#ed7953\"], [0.7777777777777778, \"#fb9f3a\"], [0.8888888888888888, \"#fdca26\"], [1.0, \"#f0f921\"]]}, \"colorway\": [\"#636efa\", \"#EF553B\", \"#00cc96\", \"#ab63fa\", \"#FFA15A\", \"#19d3f3\", \"#FF6692\", \"#B6E880\", \"#FF97FF\", \"#FECB52\"], \"font\": {\"color\": \"#2a3f5f\"}, \"geo\": {\"bgcolor\": \"white\", \"lakecolor\": \"white\", \"landcolor\": \"#E5ECF6\", \"showlakes\": true, \"showland\": true, \"subunitcolor\": \"white\"}, \"hoverlabel\": {\"align\": \"left\"}, \"hovermode\": \"closest\", \"mapbox\": {\"style\": \"light\"}, \"paper_bgcolor\": \"white\", \"plot_bgcolor\": \"#E5ECF6\", \"polar\": {\"angularaxis\": {\"gridcolor\": \"white\", \"linecolor\": \"white\", \"ticks\": \"\"}, \"bgcolor\": \"#E5ECF6\", \"radialaxis\": {\"gridcolor\": \"white\", \"linecolor\": \"white\", \"ticks\": \"\"}}, \"scene\": {\"xaxis\": {\"backgroundcolor\": \"#E5ECF6\", \"gridcolor\": \"white\", \"gridwidth\": 2, \"linecolor\": \"white\", \"showbackground\": true, \"ticks\": \"\", \"zerolinecolor\": \"white\"}, \"yaxis\": {\"backgroundcolor\": \"#E5ECF6\", \"gridcolor\": \"white\", \"gridwidth\": 2, \"linecolor\": \"white\", \"showbackground\": true, \"ticks\": \"\", \"zerolinecolor\": \"white\"}, \"zaxis\": {\"backgroundcolor\": \"#E5ECF6\", \"gridcolor\": \"white\", \"gridwidth\": 2, \"linecolor\": \"white\", \"showbackground\": true, \"ticks\": \"\", \"zerolinecolor\": \"white\"}}, \"shapedefaults\": {\"line\": {\"color\": \"#2a3f5f\"}}, \"ternary\": {\"aaxis\": {\"gridcolor\": \"white\", \"linecolor\": \"white\", \"ticks\": \"\"}, \"baxis\": {\"gridcolor\": \"white\", \"linecolor\": \"white\", \"ticks\": \"\"}, \"bgcolor\": \"#E5ECF6\", \"caxis\": {\"gridcolor\": \"white\", \"linecolor\": \"white\", \"ticks\": \"\"}}, \"title\": {\"x\": 0.05}, \"xaxis\": {\"automargin\": true, \"gridcolor\": \"white\", \"linecolor\": \"white\", \"ticks\": \"\", \"title\": {\"standoff\": 15}, \"zerolinecolor\": \"white\", \"zerolinewidth\": 2}, \"yaxis\": {\"automargin\": true, \"gridcolor\": \"white\", \"linecolor\": \"white\", \"ticks\": \"\", \"title\": {\"standoff\": 15}, \"zerolinecolor\": \"white\", \"zerolinewidth\": 2}}}, \"xaxis\": {\"anchor\": \"y\", \"domain\": [0.0, 1.0], \"title\": {\"text\": \"x\"}}, \"yaxis\": {\"anchor\": \"x\", \"domain\": [0.0, 1.0], \"title\": {\"text\": \"y\"}}},\n",
              "                        {\"responsive\": true}\n",
              "                    ).then(function(){\n",
              "                            \n",
              "var gd = document.getElementById('a47920a4-d22f-4f23-b6c8-6dea20f353c3');\n",
              "var x = new MutationObserver(function (mutations, observer) {{\n",
              "        var display = window.getComputedStyle(gd).display;\n",
              "        if (!display || display === 'none') {{\n",
              "            console.log([gd, 'removed!']);\n",
              "            Plotly.purge(gd);\n",
              "            observer.disconnect();\n",
              "        }}\n",
              "}});\n",
              "\n",
              "// Listen for the removal of the full notebook cells\n",
              "var notebookContainer = gd.closest('#notebook-container');\n",
              "if (notebookContainer) {{\n",
              "    x.observe(notebookContainer, {childList: true});\n",
              "}}\n",
              "\n",
              "// Listen for the clearing of the current output cell\n",
              "var outputEl = gd.closest('.output');\n",
              "if (outputEl) {{\n",
              "    x.observe(outputEl, {childList: true});\n",
              "}}\n",
              "\n",
              "                        })\n",
              "                };\n",
              "                \n",
              "            </script>\n",
              "        </div>\n",
              "</body>\n",
              "</html>"
            ]
          },
          "metadata": {
            "tags": []
          }
        }
      ]
    },
    {
      "cell_type": "code",
      "metadata": {
        "colab": {
          "base_uri": "https://localhost:8080/",
          "height": 527
        },
        "id": "7b6smS0yLoE8",
        "outputId": "ab022c49-687a-444f-ff4d-ddfec70a3994"
      },
      "source": [
        "plt.hist(ydata)"
      ],
      "execution_count": null,
      "outputs": [
        {
          "output_type": "execute_result",
          "data": {
            "text/plain": [
              "(array([27., 15., 11.,  8.,  9.,  7.,  7.,  5.,  6.,  5.]),\n",
              " array([  22.87866594,  159.26470319,  295.65074045,  432.03677771,\n",
              "         568.42281496,  704.80885222,  841.19488948,  977.58092674,\n",
              "        1113.96696399, 1250.35300125, 1386.73903851]),\n",
              " <a list of 10 Patch objects>)"
            ]
          },
          "metadata": {
            "tags": []
          },
          "execution_count": 103
        },
        {
          "output_type": "display_data",
          "data": {
            "image/png": "[encoded data removed]",
            "text/plain": [
              "<Figure size 640x480 with 1 Axes>"
            ]
          },
          "metadata": {
            "tags": []
          }
        }
      ]
    }
  ]
}